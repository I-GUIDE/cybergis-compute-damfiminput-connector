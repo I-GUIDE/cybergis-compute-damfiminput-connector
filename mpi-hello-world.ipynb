{
 "cells": [
  {
   "cell_type": "code",
   "execution_count": 1,
   "id": "d90e0e82",
   "metadata": {},
   "outputs": [
    {
     "name": "stdout",
     "output_type": "stream",
     "text": [
      "Collecting git+https://github.com/cybergis/job-supervisor-python-sdk.git@1a5321a8242f1435a611b3094b536e232b13a522\n",
      "  Cloning https://github.com/cybergis/job-supervisor-python-sdk.git (to revision 1a5321a8242f1435a611b3094b536e232b13a522) to /tmp/pip-req-build-_jz1jtzn\n",
      "  Running command git clone -q https://github.com/cybergis/job-supervisor-python-sdk.git /tmp/pip-req-build-_jz1jtzn\n",
      "  Running command git rev-parse -q --verify 'sha^1a5321a8242f1435a611b3094b536e232b13a522'\n",
      "  Running command git fetch -q https://github.com/cybergis/job-supervisor-python-sdk.git 1a5321a8242f1435a611b3094b536e232b13a522\n",
      "  Running command git checkout -q 1a5321a8242f1435a611b3094b536e232b13a522\n",
      "Collecting tabulate\n",
      "  Downloading tabulate-0.8.9-py3-none-any.whl (25 kB)\n",
      "Collecting ipython\n",
      "  Downloading ipython-7.29.0-py3-none-any.whl (790 kB)\n",
      "\u001b[K     |████████████████████████████████| 790 kB 9.9 MB/s eta 0:00:01\n",
      "\u001b[?25hCollecting ipyfilechooser\n",
      "  Downloading ipyfilechooser-0.6.0-py3-none-any.whl (11 kB)\n",
      "Collecting ipywidgets\n",
      "  Downloading ipywidgets-7.6.5-py2.py3-none-any.whl (121 kB)\n",
      "\u001b[K     |████████████████████████████████| 121 kB 64.5 MB/s eta 0:00:01\n",
      "\u001b[?25hCollecting matplotlib-inline\n",
      "  Downloading matplotlib_inline-0.1.3-py3-none-any.whl (8.2 kB)\n",
      "Collecting setuptools>=18.5\n",
      "  Downloading setuptools-59.2.0-py3-none-any.whl (952 kB)\n",
      "\u001b[K     |████████████████████████████████| 952 kB 56.5 MB/s eta 0:00:01\n",
      "\u001b[?25hCollecting pygments\n",
      "  Downloading Pygments-2.10.0-py3-none-any.whl (1.0 MB)\n",
      "\u001b[K     |████████████████████████████████| 1.0 MB 68.4 MB/s eta 0:00:01\n",
      "\u001b[?25hCollecting prompt-toolkit!=3.0.0,!=3.0.1,<3.1.0,>=2.0.0\n",
      "  Downloading prompt_toolkit-3.0.22-py3-none-any.whl (374 kB)\n",
      "\u001b[K     |████████████████████████████████| 374 kB 68.9 MB/s eta 0:00:01\n",
      "\u001b[?25hCollecting decorator\n",
      "  Downloading decorator-5.1.0-py3-none-any.whl (9.1 kB)\n",
      "Collecting traitlets>=4.2\n",
      "  Downloading traitlets-5.1.1-py3-none-any.whl (102 kB)\n",
      "\u001b[K     |████████████████████████████████| 102 kB 2.1 MB/s eta 0:00:01\n",
      "\u001b[?25hCollecting jedi>=0.16\n",
      "  Downloading jedi-0.18.1-py2.py3-none-any.whl (1.6 MB)\n",
      "\u001b[K     |████████████████████████████████| 1.6 MB 44.9 MB/s eta 0:00:01\n",
      "\u001b[?25hCollecting pexpect>4.3\n",
      "  Downloading pexpect-4.8.0-py2.py3-none-any.whl (59 kB)\n",
      "\u001b[K     |████████████████████████████████| 59 kB 1.8 MB/s  eta 0:00:01\n",
      "\u001b[?25hCollecting pickleshare\n",
      "  Downloading pickleshare-0.7.5-py2.py3-none-any.whl (6.9 kB)\n",
      "Collecting backcall\n",
      "  Downloading backcall-0.2.0-py2.py3-none-any.whl (11 kB)\n",
      "Collecting parso<0.9.0,>=0.8.0\n",
      "  Downloading parso-0.8.2-py2.py3-none-any.whl (94 kB)\n",
      "\u001b[K     |████████████████████████████████| 94 kB 164 kB/s  eta 0:00:01\n",
      "\u001b[?25hCollecting ptyprocess>=0.5\n",
      "  Downloading ptyprocess-0.7.0-py2.py3-none-any.whl (13 kB)\n",
      "Collecting wcwidth\n",
      "  Downloading wcwidth-0.2.5-py2.py3-none-any.whl (30 kB)\n",
      "Collecting nbformat>=4.2.0\n",
      "  Downloading nbformat-5.1.3-py3-none-any.whl (178 kB)\n",
      "\u001b[K     |████████████████████████████████| 178 kB 45.4 MB/s eta 0:00:01\n",
      "\u001b[?25hCollecting widgetsnbextension~=3.5.0\n",
      "  Downloading widgetsnbextension-3.5.2-py2.py3-none-any.whl (1.6 MB)\n",
      "\u001b[K     |████████████████████████████████| 1.6 MB 51.4 MB/s eta 0:00:01\n",
      "\u001b[?25hCollecting ipython-genutils~=0.2.0\n",
      "  Downloading ipython_genutils-0.2.0-py2.py3-none-any.whl (26 kB)\n",
      "Collecting jupyterlab-widgets>=1.0.0\n",
      "  Downloading jupyterlab_widgets-1.0.2-py3-none-any.whl (243 kB)\n",
      "\u001b[K     |████████████████████████████████| 243 kB 46.6 MB/s eta 0:00:01\n",
      "\u001b[?25hCollecting ipykernel>=4.5.1\n",
      "  Downloading ipykernel-6.5.1-py3-none-any.whl (125 kB)\n",
      "\u001b[K     |████████████████████████████████| 125 kB 58.0 MB/s eta 0:00:01\n",
      "\u001b[?25hCollecting argcomplete>=1.12.3\n",
      "  Downloading argcomplete-1.12.3-py2.py3-none-any.whl (38 kB)\n",
      "Collecting importlib-metadata<5\n",
      "  Downloading importlib_metadata-4.8.2-py3-none-any.whl (17 kB)\n",
      "Collecting jupyter-client<8.0\n",
      "  Downloading jupyter_client-7.1.0-py3-none-any.whl (129 kB)\n",
      "\u001b[K     |████████████████████████████████| 129 kB 66.3 MB/s eta 0:00:01\n",
      "\u001b[?25hCollecting tornado<7.0,>=4.2\n",
      "  Downloading tornado-6.1-cp37-cp37m-manylinux2010_x86_64.whl (428 kB)\n",
      "\u001b[K     |████████████████████████████████| 428 kB 71.2 MB/s eta 0:00:01\n",
      "\u001b[?25hCollecting debugpy<2.0,>=1.0.0\n",
      "  Downloading debugpy-1.5.1-cp37-cp37m-manylinux_2_5_x86_64.manylinux1_x86_64.manylinux_2_12_x86_64.manylinux2010_x86_64.whl (1.9 MB)\n",
      "\u001b[K     |████████████████████████████████| 1.9 MB 51.9 MB/s eta 0:00:01\n",
      "\u001b[?25hCollecting typing-extensions>=3.6.4\n",
      "  Downloading typing_extensions-4.0.0-py3-none-any.whl (22 kB)\n",
      "Collecting zipp>=0.5\n",
      "  Downloading zipp-3.6.0-py3-none-any.whl (5.3 kB)\n",
      "Collecting python-dateutil>=2.1\n",
      "  Downloading python_dateutil-2.8.2-py2.py3-none-any.whl (247 kB)\n",
      "\u001b[K     |████████████████████████████████| 247 kB 47.9 MB/s eta 0:00:01\n",
      "\u001b[?25hCollecting entrypoints\n",
      "  Downloading entrypoints-0.3-py2.py3-none-any.whl (11 kB)\n",
      "Collecting jupyter-core>=4.6.0\n",
      "  Downloading jupyter_core-4.9.1-py3-none-any.whl (86 kB)\n",
      "\u001b[K     |████████████████████████████████| 86 kB 5.0 MB/s  eta 0:00:01\n",
      "\u001b[?25hCollecting nest-asyncio>=1.5\n",
      "  Downloading nest_asyncio-1.5.1-py3-none-any.whl (5.0 kB)\n",
      "Collecting pyzmq>=13\n",
      "  Downloading pyzmq-22.3.0-cp37-cp37m-manylinux_2_5_x86_64.manylinux1_x86_64.whl (1.1 MB)\n",
      "\u001b[K     |████████████████████████████████| 1.1 MB 64.9 MB/s eta 0:00:01\n",
      "\u001b[?25hCollecting jsonschema!=2.5.0,>=2.4\n",
      "  Downloading jsonschema-4.2.1-py3-none-any.whl (69 kB)\n",
      "\u001b[K     |████████████████████████████████| 69 kB 6.1 MB/s  eta 0:00:01\n",
      "\u001b[?25hCollecting pyrsistent!=0.17.0,!=0.17.1,!=0.17.2,>=0.14.0\n",
      "  Downloading pyrsistent-0.18.0-cp37-cp37m-manylinux1_x86_64.whl (119 kB)\n",
      "\u001b[K     |████████████████████████████████| 119 kB 47.4 MB/s eta 0:00:01\n",
      "\u001b[?25hCollecting attrs>=17.4.0\n",
      "  Downloading attrs-21.2.0-py2.py3-none-any.whl (53 kB)\n",
      "\u001b[K     |████████████████████████████████| 53 kB 181 kB/s  eta 0:00:01\n",
      "\u001b[?25hCollecting importlib-resources>=1.4.0\n",
      "  Downloading importlib_resources-5.4.0-py3-none-any.whl (28 kB)\n",
      "Collecting six>=1.5\n",
      "  Downloading six-1.16.0-py2.py3-none-any.whl (11 kB)\n",
      "Collecting notebook>=4.4.1\n",
      "  Downloading notebook-6.4.6-py3-none-any.whl (9.9 MB)\n",
      "\u001b[K     |████████████████████████████████| 9.9 MB 66.2 MB/s eta 0:00:01\n",
      "\u001b[?25hCollecting argon2-cffi\n",
      "  Downloading argon2_cffi-21.1.0-cp35-abi3-manylinux_2_5_x86_64.manylinux1_x86_64.whl (96 kB)\n",
      "\u001b[K     |████████████████████████████████| 96 kB 4.1 MB/s  eta 0:00:01\n",
      "\u001b[?25hCollecting jinja2\n",
      "  Downloading Jinja2-3.0.3-py3-none-any.whl (133 kB)\n",
      "\u001b[K     |████████████████████████████████| 133 kB 52.5 MB/s eta 0:00:01\n",
      "\u001b[?25hCollecting prometheus-client\n",
      "  Downloading prometheus_client-0.12.0-py2.py3-none-any.whl (57 kB)\n",
      "\u001b[K     |████████████████████████████████| 57 kB 805 kB/s  eta 0:00:01\n",
      "\u001b[?25hCollecting nbconvert\n",
      "  Downloading nbconvert-6.3.0-py3-none-any.whl (556 kB)\n",
      "\u001b[K     |████████████████████████████████| 556 kB 54.1 MB/s eta 0:00:01\n",
      "\u001b[?25hCollecting terminado>=0.8.3\n",
      "  Downloading terminado-0.12.1-py3-none-any.whl (15 kB)\n",
      "Collecting Send2Trash>=1.8.0\n",
      "  Downloading Send2Trash-1.8.0-py3-none-any.whl (18 kB)\n",
      "Collecting cffi>=1.0.0\n",
      "  Downloading cffi-1.15.0-cp37-cp37m-manylinux_2_12_x86_64.manylinux2010_x86_64.whl (427 kB)\n",
      "\u001b[K     |████████████████████████████████| 427 kB 57.8 MB/s eta 0:00:01\n",
      "\u001b[?25hCollecting pycparser\n",
      "  Downloading pycparser-2.21-py2.py3-none-any.whl (118 kB)\n",
      "\u001b[K     |████████████████████████████████| 118 kB 61.6 MB/s eta 0:00:01\n",
      "\u001b[?25hCollecting MarkupSafe>=2.0\n",
      "  Downloading MarkupSafe-2.0.1-cp37-cp37m-manylinux_2_5_x86_64.manylinux1_x86_64.manylinux_2_12_x86_64.manylinux2010_x86_64.whl (31 kB)\n",
      "Collecting defusedxml\n",
      "  Downloading defusedxml-0.7.1-py2.py3-none-any.whl (25 kB)\n",
      "Collecting bleach\n",
      "  Downloading bleach-4.1.0-py2.py3-none-any.whl (157 kB)\n",
      "\u001b[K     |████████████████████████████████| 157 kB 66.0 MB/s eta 0:00:01\n",
      "\u001b[?25hCollecting nbclient<0.6.0,>=0.5.0\n",
      "  Downloading nbclient-0.5.9-py3-none-any.whl (69 kB)\n",
      "\u001b[K     |████████████████████████████████| 69 kB 6.9 MB/s  eta 0:00:01\n",
      "\u001b[?25hCollecting mistune<2,>=0.8.1\n",
      "  Downloading mistune-0.8.4-py2.py3-none-any.whl (16 kB)\n",
      "Collecting jupyterlab-pygments\n",
      "  Downloading jupyterlab_pygments-0.1.2-py2.py3-none-any.whl (4.6 kB)\n",
      "Collecting testpath\n",
      "  Downloading testpath-0.5.0-py3-none-any.whl (84 kB)\n",
      "\u001b[K     |████████████████████████████████| 84 kB 3.2 MB/s  eta 0:00:01\n"
     ]
    },
    {
     "name": "stdout",
     "output_type": "stream",
     "text": [
      "\u001b[?25hCollecting pandocfilters>=1.4.1\n",
      "  Downloading pandocfilters-1.5.0-py2.py3-none-any.whl (8.7 kB)\n",
      "Collecting packaging\n",
      "  Downloading packaging-21.3-py3-none-any.whl (40 kB)\n",
      "\u001b[K     |████████████████████████████████| 40 kB 6.4 MB/s  eta 0:00:01\n",
      "\u001b[?25hCollecting webencodings\n",
      "  Downloading webencodings-0.5.1-py2.py3-none-any.whl (11 kB)\n",
      "Collecting pyparsing!=3.0.5,>=2.0.2\n",
      "  Downloading pyparsing-3.0.6-py3-none-any.whl (97 kB)\n",
      "\u001b[K     |████████████████████████████████| 97 kB 6.6 MB/s  eta 0:00:01\n",
      "\u001b[?25hBuilding wheels for collected packages: cybergis-compute-client\n",
      "  Building wheel for cybergis-compute-client (setup.py) ... \u001b[?25ldone\n",
      "\u001b[?25h  Created wheel for cybergis-compute-client: filename=cybergis_compute_client-0.0.2-py3-none-any.whl size=20462 sha256=87b127da38870b665aab4690112c844b6f35acbdf3f7df27b5c1ffdfa6ff1624\n",
      "  Stored in directory: /home/jovyan/.cache/pip/wheels/92/e6/d6/490d2e758b72751c42e7c5b3b36bed6a9222b1153969161ee1\n",
      "Successfully built cybergis-compute-client\n",
      "Installing collected packages: zipp, typing-extensions, traitlets, six, pyrsistent, importlib-resources, importlib-metadata, attrs, wcwidth, tornado, pyzmq, python-dateutil, pyparsing, ptyprocess, parso, nest-asyncio, jupyter-core, jsonschema, ipython-genutils, entrypoints, webencodings, setuptools, pygments, pycparser, prompt-toolkit, pickleshare, pexpect, packaging, nbformat, matplotlib-inline, MarkupSafe, jupyter-client, jedi, decorator, backcall, testpath, pandocfilters, nbclient, mistune, jupyterlab-pygments, jinja2, ipython, defusedxml, debugpy, cffi, bleach, argcomplete, terminado, Send2Trash, prometheus-client, nbconvert, ipykernel, argon2-cffi, notebook, widgetsnbextension, jupyterlab-widgets, ipywidgets, tabulate, ipyfilechooser, cybergis-compute-client\n",
      "\u001b[31mERROR: pip's dependency resolver does not currently take into account all the packages that are installed. This behaviour is the source of the following dependency conflicts.\n",
      "networkx 2.5.1 requires decorator<5,>=4.3, but you have decorator 5.1.0 which is incompatible.\n",
      "distributed 2.5.2 requires dask>=2.3, but you have dask 2.2.0 which is incompatible.\u001b[0m\n",
      "Successfully installed MarkupSafe-2.0.1 Send2Trash-1.8.0 argcomplete-1.12.3 argon2-cffi-21.1.0 attrs-21.2.0 backcall-0.2.0 bleach-4.1.0 cffi-1.15.0 cybergis-compute-client-0.0.2 debugpy-1.5.1 decorator-5.1.0 defusedxml-0.7.1 entrypoints-0.3 importlib-metadata-4.8.2 importlib-resources-5.4.0 ipyfilechooser-0.6.0 ipykernel-6.5.1 ipython-7.29.0 ipython-genutils-0.2.0 ipywidgets-7.6.5 jedi-0.18.1 jinja2-3.0.3 jsonschema-4.2.1 jupyter-client-7.1.0 jupyter-core-4.9.1 jupyterlab-pygments-0.1.2 jupyterlab-widgets-1.0.2 matplotlib-inline-0.1.3 mistune-0.8.4 nbclient-0.5.9 nbconvert-6.3.0 nbformat-5.1.3 nest-asyncio-1.5.1 notebook-6.4.6 packaging-21.3 pandocfilters-1.5.0 parso-0.8.2 pexpect-4.8.0 pickleshare-0.7.5 prometheus-client-0.12.0 prompt-toolkit-3.0.22 ptyprocess-0.7.0 pycparser-2.21 pygments-2.10.0 pyparsing-3.0.6 pyrsistent-0.18.0 python-dateutil-2.8.2 pyzmq-22.3.0 setuptools-59.2.0 six-1.16.0 tabulate-0.8.9 terminado-0.12.1 testpath-0.5.0 tornado-6.1 traitlets-5.1.1 typing-extensions-4.0.0 wcwidth-0.2.5 webencodings-0.5.1 widgetsnbextension-3.5.2 zipp-3.6.0\n"
     ]
    }
   ],
   "source": [
    "import sys, site\n",
    "try:\n",
    "    import cybergis_compute_client\n",
    "    print(\"Using lib from: {}\".format(cybergis_compute_client.__file__))\n",
    "except ImportError:\n",
    "    !{sys.executable} -m pip install --user --ignore-installed git+https://github.com/cybergis/job-supervisor-python-sdk.git@1a5321a8242f1435a611b3094b536e232b13a522   \n",
    "    if sys.path[0] != site.getusersitepackages():\n",
    "        sys.path.insert(0, site.getusersitepackages())"
   ]
  },
  {
   "cell_type": "code",
   "execution_count": 18,
   "id": "006e5c8f",
   "metadata": {},
   "outputs": [],
   "source": [
    "from cybergis_compute_client import CyberGISCompute"
   ]
  },
  {
   "cell_type": "code",
   "execution_count": 23,
   "id": "cea2cc22",
   "metadata": {},
   "outputs": [
    {
     "data": {
      "application/javascript": [
       "IPython.notebook.kernel.execute(`CyberGISCompute.jupyterhubHost = \"${window.location.host}\"`);"
      ],
      "text/plain": [
       "<IPython.core.display.Javascript object>"
      ]
     },
     "metadata": {},
     "output_type": "display_data"
    },
    {
     "name": "stdout",
     "output_type": "stream",
     "text": [
      "💻 Found system token\n",
      "🎯 Logged in as drew@js-156-216.jetstream-cloud.org\n"
     ]
    }
   ],
   "source": [
    "# Todo: random login error\n",
    "# try to run this cell again if you see login error\n",
    "cybergis = CyberGISCompute(url=\"cgjobsup-dev.cigi.illinois.edu\", isJupyter=True, protocol=\"HTTPS\", port=443, suffix=\"v2\")\n",
    "cybergis.login()"
   ]
  },
  {
   "cell_type": "code",
   "execution_count": 24,
   "id": "b25e7361",
   "metadata": {},
   "outputs": [
    {
     "data": {
      "text/html": [
       "<table>\n",
       "<thead>\n",
       "<tr><th style=\"text-align:left\">link                                      </th><th style=\"text-align:left\">name                                </th><th style=\"text-align:left\">container    </th><th style=\"text-align:left\">repository                                                                      </th><th style=\"text-align:left\">commit  </th></tr>\n",
       "</thead>\n",
       "<tbody>\n",
       "<tr><td style=\"text-align:left\">git://uncertainty_in_spatial_accessibility</td><td style=\"text-align:left\">Uncertainty_in_Spatial_Accessibility</td><td style=\"text-align:left\">cybergisx-0.4</td><td style=\"text-align:left\">https://github.com/JinwooParkGeographer/Uncertainty-in-Spatial-Accessibility.git</td><td style=\"text-align:left\">NONE    </td></tr>\n",
       "<tr><td style=\"text-align:left\">git://spatial_access_covid-19             </td><td style=\"text-align:left\">COVID-19 spatial accessibility      </td><td style=\"text-align:left\">cybergisx-0.4</td><td style=\"text-align:left\">https://github.com/cybergis/cybergis-compute-spatial-access-covid-19.git        </td><td style=\"text-align:left\">NONE    </td></tr>\n",
       "<tr><td style=\"text-align:left\">git://mpi_hello_world                     </td><td style=\"text-align:left\">MPI Hello World                     </td><td style=\"text-align:left\">mpich        </td><td style=\"text-align:left\">https://github.com/cybergis/cybergis-compute-mpi-helloworld.git                 </td><td style=\"text-align:left\">NONE    </td></tr>\n",
       "<tr><td style=\"text-align:left\">git://hello_world                         </td><td style=\"text-align:left\">hello world                         </td><td style=\"text-align:left\">python       </td><td style=\"text-align:left\">https://github.com/cybergis/cybergis-compute-hello-world.git                    </td><td style=\"text-align:left\">NONE    </td></tr>\n",
       "<tr><td style=\"text-align:left\">git://fireabm                             </td><td style=\"text-align:left\">hello FireABM                       </td><td style=\"text-align:left\">cybergisx-0.4</td><td style=\"text-align:left\">https://github.com/cybergis/cybergis-compute-fireabm.git                        </td><td style=\"text-align:left\">NONE    </td></tr>\n",
       "<tr><td style=\"text-align:left\">git://data_fusion                         </td><td style=\"text-align:left\">data fusion                         </td><td style=\"text-align:left\">python       </td><td style=\"text-align:left\">https://github.com/CarnivalBug/data_fusion.git                                  </td><td style=\"text-align:left\">NONE    </td></tr>\n",
       "<tr><td style=\"text-align:left\">git://cybergis-compute-modules-test       </td><td style=\"text-align:left\">modules test                        </td><td style=\"text-align:left\">cjw-eb       </td><td style=\"text-align:left\">https://github.com/alexandermichels/cybergis-compute-modules-test.git           </td><td style=\"text-align:left\">NONE    </td></tr>\n",
       "<tr><td style=\"text-align:left\">git://bridge_hello_world                  </td><td style=\"text-align:left\">hello world                         </td><td style=\"text-align:left\">python       </td><td style=\"text-align:left\">https://github.com/cybergis/CyberGIS-Compute-Bridges-2.git                      </td><td style=\"text-align:left\">NONE    </td></tr>\n",
       "</tbody>\n",
       "</table>"
      ],
      "text/plain": [
       "<IPython.core.display.HTML object>"
      ]
     },
     "metadata": {},
     "output_type": "display_data"
    }
   ],
   "source": [
    "cybergis.list_git()"
   ]
  },
  {
   "cell_type": "code",
   "execution_count": 25,
   "id": "001b6702",
   "metadata": {},
   "outputs": [
    {
     "data": {
      "text/html": [
       "<table>\n",
       "<thead>\n",
       "<tr><th style=\"text-align:left\">hpc              </th><th style=\"text-align:left\">ip                        </th><th style=\"text-align:left\">port  </th><th style=\"text-align:left\">is_community_account  </th></tr>\n",
       "</thead>\n",
       "<tbody>\n",
       "<tr><td style=\"text-align:left\">keeling_community</td><td style=\"text-align:left\">keeling.earth.illinois.edu</td><td style=\"text-align:left\">22    </td><td style=\"text-align:left\">True                  </td></tr>\n",
       "<tr><td style=\"text-align:left\">expanse_community</td><td style=\"text-align:left\">login.expanse.sdsc.edu    </td><td style=\"text-align:left\">22    </td><td style=\"text-align:left\">True                  </td></tr>\n",
       "<tr><td style=\"text-align:left\">bridges_community</td><td style=\"text-align:left\">bridges2.psc.edu          </td><td style=\"text-align:left\">22    </td><td style=\"text-align:left\">True                  </td></tr>\n",
       "</tbody>\n",
       "</table>"
      ],
      "text/plain": [
       "<IPython.core.display.HTML object>"
      ]
     },
     "metadata": {},
     "output_type": "display_data"
    }
   ],
   "source": [
    "cybergis.list_hpc()"
   ]
  },
  {
   "cell_type": "code",
   "execution_count": 26,
   "id": "eef52695",
   "metadata": {},
   "outputs": [
    {
     "data": {
      "text/plain": [
       "{'endpoint': 'fcd5acc6-157f-11ec-90b8-41052087bc27',\n",
       " 'root_path': '/~/mnt/nfs_folder/notebook_home_data/drew'}"
      ]
     },
     "execution_count": 26,
     "metadata": {},
     "output_type": "execute_result"
    }
   ],
   "source": [
    "cybergis.get_user_jupyter_globus()"
   ]
  },
  {
   "cell_type": "code",
   "execution_count": 28,
   "id": "f99d6899",
   "metadata": {},
   "outputs": [
    {
     "data": {
      "application/vnd.jupyter.widget-view+json": {
       "model_id": "00b24527ca2e4d4ba899e6e0c126777e",
       "version_major": 2,
       "version_minor": 0
      },
      "text/plain": [
       "Dropdown(description='📦 Git Repository:', options=('git://uncertainty_in_spatial_accessibility', 'git://spatia…"
      ]
     },
     "metadata": {},
     "output_type": "display_data"
    },
    {
     "data": {
      "application/vnd.jupyter.widget-view+json": {
       "model_id": "22200824b2f44774a552303a8c62d0ef",
       "version_major": 2,
       "version_minor": 0
      },
      "text/plain": [
       "Dropdown(description='🖥 HPC Endpoint:', options=('keeling_community', 'expanse_community', 'bridges_community'…"
      ]
     },
     "metadata": {},
     "output_type": "display_data"
    },
    {
     "data": {
      "text/markdown": [
       "#### Slurm Options:"
      ],
      "text/plain": [
       "<IPython.core.display.Markdown object>"
      ]
     },
     "metadata": {},
     "output_type": "display_data"
    },
    {
     "data": {
      "text/markdown": [
       "Click checkboxs to enable option and overwrite default config value. All configs are optional. Please refer to [Slurm official documentation](https://slurm.schedmd.com/sbatch.html)"
      ],
      "text/plain": [
       "<IPython.core.display.Markdown object>"
      ]
     },
     "metadata": {},
     "output_type": "display_data"
    },
    {
     "data": {
      "application/vnd.jupyter.widget-view+json": {
       "model_id": "517228591c73478a97903b207f63cfdf",
       "version_major": 2,
       "version_minor": 0
      },
      "text/plain": [
       "Output()"
      ]
     },
     "metadata": {},
     "output_type": "display_data"
    },
    {
     "data": {
      "application/vnd.jupyter.widget-view+json": {
       "model_id": "06482d8dda32491da67c4833edfe2275",
       "version_major": 2,
       "version_minor": 0
      },
      "text/plain": [
       "Output()"
      ]
     },
     "metadata": {},
     "output_type": "display_data"
    },
    {
     "data": {
      "text/markdown": [
       "#### Globus File Upload/Download:"
      ],
      "text/plain": [
       "<IPython.core.display.Markdown object>"
      ]
     },
     "metadata": {},
     "output_type": "display_data"
    },
    {
     "data": {
      "application/vnd.jupyter.widget-view+json": {
       "model_id": "314415d856504f66b9704f6b267dd999",
       "version_major": 2,
       "version_minor": 0
      },
      "text/plain": [
       "Output()"
      ]
     },
     "metadata": {},
     "output_type": "display_data"
    },
    {
     "data": {
      "application/vnd.jupyter.widget-view+json": {
       "model_id": "1b102406409e4f548d89123d41f9164a",
       "version_major": 2,
       "version_minor": 0
      },
      "text/plain": [
       "Output()"
      ]
     },
     "metadata": {},
     "output_type": "display_data"
    },
    {
     "data": {
      "application/vnd.jupyter.widget-view+json": {
       "model_id": "682ad706e04d4c509ad366edac7bd487",
       "version_major": 2,
       "version_minor": 0
      },
      "text/plain": [
       "Output()"
      ]
     },
     "metadata": {},
     "output_type": "display_data"
    },
    {
     "data": {
      "application/vnd.jupyter.widget-view+json": {
       "model_id": "d7c8b648d59d4229914a692d10d71b14",
       "version_major": 2,
       "version_minor": 0
      },
      "text/plain": [
       "Output()"
      ]
     },
     "metadata": {},
     "output_type": "display_data"
    },
    {
     "data": {
      "application/vnd.jupyter.widget-view+json": {
       "model_id": "2a8ac1b2a9094f87a5acbe9eff77e0e5",
       "version_major": 2,
       "version_minor": 0
      },
      "text/plain": [
       "Output()"
      ]
     },
     "metadata": {},
     "output_type": "display_data"
    },
    {
     "data": {
      "application/vnd.jupyter.widget-view+json": {
       "model_id": "d82c58e84f6a49ed9e499e5ae94a75e9",
       "version_major": 2,
       "version_minor": 0
      },
      "text/plain": [
       "Output()"
      ]
     },
     "metadata": {},
     "output_type": "display_data"
    },
    {
     "data": {
      "application/vnd.jupyter.widget-view+json": {
       "model_id": "41b698121a86470d9f47475d80ed0093",
       "version_major": 2,
       "version_minor": 0
      },
      "text/plain": [
       "Output()"
      ]
     },
     "metadata": {},
     "output_type": "display_data"
    }
   ],
   "source": [
    "demo_job = cybergis.create_job_by_UI()"
   ]
  },
  {
   "cell_type": "code",
   "execution_count": null,
   "id": "56a8c6d7",
   "metadata": {},
   "outputs": [],
   "source": []
  },
  {
   "cell_type": "code",
   "execution_count": null,
   "id": "212e0fb5",
   "metadata": {},
   "outputs": [],
   "source": []
  }
 ],
 "metadata": {
  "kernelspec": {
   "display_name": "Python 3-2021-09",
   "language": "python",
   "name": "python3-2021-09"
  },
  "language_info": {
   "codemirror_mode": {
    "name": "ipython",
    "version": 3
   },
   "file_extension": ".py",
   "mimetype": "text/x-python",
   "name": "python",
   "nbconvert_exporter": "python",
   "pygments_lexer": "ipython3",
   "version": "3.7.9"
  }
 },
 "nbformat": 4,
 "nbformat_minor": 5
}
