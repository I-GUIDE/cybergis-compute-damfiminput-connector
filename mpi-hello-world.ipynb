{
 "cells": [
  {
   "cell_type": "markdown",
   "id": "b95cf357",
   "metadata": {},
   "source": [
    "# Run MPI-based HelloWorld toy model on a HPC via CyberGIS-Compute\n",
    "\n",
    "This notebook demonstrates on how to launch the mpi-helloworld toy model using the CyberGIS-Compute SDK. This toy model will print out \"Hello World\" from each MPI rank (parallel process) and copies any return any uploaded data as is in the result.\n",
    "\n",
    "The implementation of this model is on Github at https://github.com/cybergis/cybergis-compute-mpi-helloworld\n",
    "\n",
    "<font color='red'>Some steps in this notebook require user interaction. \"Run cell by cell\" is recommended. \"Run All\" will not work. </font>\n",
    "\n",
    "### Install the latest CyberGIS-Compute SDK (if not exist)"
   ]
  },
  {
   "cell_type": "code",
   "execution_count": 1,
   "id": "9872f24a",
   "metadata": {},
   "outputs": [
    {
     "name": "stdout",
     "output_type": "stream",
     "text": [
      "Using lib from: /home/jovyan/.local/lib/python3.7/site-packages/cybergis_compute_client/__init__.py\n"
     ]
    }
   ],
   "source": [
    "import sys, site\n",
    "try:\n",
    "    import cybergis_compute_client\n",
    "    print(\"Using lib from: {}\".format(cybergis_compute_client.__file__))\n",
    "except ImportError:\n",
    "    !{sys.executable} -m pip install --user --ignore-installed git+https://github.com/cybergis/job-supervisor-python-sdk.git   \n",
    "    if sys.path[0] != site.getusersitepackages():\n",
    "        sys.path.insert(0, site.getusersitepackages())"
   ]
  },
  {
   "cell_type": "markdown",
   "id": "80fd3966",
   "metadata": {},
   "source": [
    "### Import CyberGIS-Compute SDK and other dependencies"
   ]
  },
  {
   "cell_type": "code",
   "execution_count": 2,
   "id": "006e5c8f",
   "metadata": {},
   "outputs": [],
   "source": [
    "import os\n",
    "from cybergis_compute_client import CyberGISCompute"
   ]
  },
  {
   "cell_type": "markdown",
   "id": "38decb1b",
   "metadata": {},
   "source": [
    "### Connect to CyberGIG-Compute service"
   ]
  },
  {
   "cell_type": "code",
   "execution_count": 3,
   "id": "cea2cc22",
   "metadata": {},
   "outputs": [],
   "source": [
    "cybergis = CyberGISCompute(url=\"cgjobsup.cigi.illinois.edu\", isJupyter=True, protocol=\"HTTPS\", port=443, suffix=\"v2\")"
   ]
  },
  {
   "cell_type": "markdown",
   "id": "95bea77c",
   "metadata": {},
   "source": [
    "### List all avaiable models on CyberGIS-Compute (list may change)"
   ]
  },
  {
   "cell_type": "code",
   "execution_count": 4,
   "id": "b25e7361",
   "metadata": {},
   "outputs": [
    {
     "data": {
      "text/html": [
       "<table>\n",
       "<thead>\n",
       "<tr><th style=\"text-align:left\">link                                      </th><th style=\"text-align:left\">name                                </th><th style=\"text-align:left\">container    </th><th style=\"text-align:left\">repository                                                                      </th><th style=\"text-align:left\">commit  </th></tr>\n",
       "</thead>\n",
       "<tbody>\n",
       "<tr><td style=\"text-align:left\">git://uncertainty_in_spatial_accessibility</td><td style=\"text-align:left\">Uncertainty_in_Spatial_Accessibility</td><td style=\"text-align:left\">cybergisx-0.4</td><td style=\"text-align:left\">https://github.com/JinwooParkGeographer/Uncertainty-in-Spatial-Accessibility.git</td><td style=\"text-align:left\">NONE    </td></tr>\n",
       "<tr><td style=\"text-align:left\">git://summa-3.0.3                         </td><td style=\"text-align:left\">SUMMA                               </td><td style=\"text-align:left\">summa-3.0.3  </td><td style=\"text-align:left\">https://github.com/cybergis/cybergis-compute-v2-summa.git                       </td><td style=\"text-align:left\">NONE    </td></tr>\n",
       "<tr><td style=\"text-align:left\">git://spatial_access_covid-19             </td><td style=\"text-align:left\">COVID-19 spatial accessibility      </td><td style=\"text-align:left\">cybergisx-0.4</td><td style=\"text-align:left\">https://github.com/cybergis/cybergis-compute-spatial-access-covid-19.git        </td><td style=\"text-align:left\">NONE    </td></tr>\n",
       "<tr><td style=\"text-align:left\">git://mpi_hello_world                     </td><td style=\"text-align:left\">MPI Hello World                     </td><td style=\"text-align:left\">mpich        </td><td style=\"text-align:left\">https://github.com/cybergis/cybergis-compute-mpi-helloworld.git                 </td><td style=\"text-align:left\">NONE    </td></tr>\n",
       "<tr><td style=\"text-align:left\">git://hello_world                         </td><td style=\"text-align:left\">hello world                         </td><td style=\"text-align:left\">python       </td><td style=\"text-align:left\">https://github.com/cybergis/cybergis-compute-hello-world.git                    </td><td style=\"text-align:left\">NONE    </td></tr>\n",
       "<tr><td style=\"text-align:left\">git://fireabm                             </td><td style=\"text-align:left\">hello FireABM                       </td><td style=\"text-align:left\">cybergisx-0.4</td><td style=\"text-align:left\">https://github.com/cybergis/cybergis-compute-fireabm.git                        </td><td style=\"text-align:left\">NONE    </td></tr>\n",
       "<tr><td style=\"text-align:left\">git://data_fusion                         </td><td style=\"text-align:left\">data fusion                         </td><td style=\"text-align:left\">python       </td><td style=\"text-align:left\">https://github.com/CarnivalBug/data_fusion.git                                  </td><td style=\"text-align:left\">NONE    </td></tr>\n",
       "<tr><td style=\"text-align:left\">git://cybergis-compute-modules-test       </td><td style=\"text-align:left\">modules test                        </td><td style=\"text-align:left\">cjw-eb       </td><td style=\"text-align:left\">https://github.com/alexandermichels/cybergis-compute-modules-test.git           </td><td style=\"text-align:left\">NONE    </td></tr>\n",
       "<tr><td style=\"text-align:left\">git://bridge_hello_world                  </td><td style=\"text-align:left\">hello world                         </td><td style=\"text-align:left\">python       </td><td style=\"text-align:left\">https://github.com/cybergis/CyberGIS-Compute-Bridges-2.git                      </td><td style=\"text-align:left\">NONE    </td></tr>\n",
       "</tbody>\n",
       "</table>"
      ],
      "text/plain": [
       "<IPython.core.display.HTML object>"
      ]
     },
     "metadata": {},
     "output_type": "display_data"
    }
   ],
   "source": [
    "cybergis.list_git()"
   ]
  },
  {
   "cell_type": "markdown",
   "id": "c86bdd9c",
   "metadata": {},
   "source": [
    "### List all supported HPC resources (list may changea)"
   ]
  },
  {
   "cell_type": "code",
   "execution_count": 5,
   "id": "001b6702",
   "metadata": {},
   "outputs": [
    {
     "data": {
      "text/html": [
       "<table>\n",
       "<thead>\n",
       "<tr><th style=\"text-align:left\">hpc              </th><th style=\"text-align:left\">ip                        </th><th style=\"text-align:left\">port  </th><th style=\"text-align:left\">is_community_account  </th></tr>\n",
       "</thead>\n",
       "<tbody>\n",
       "<tr><td style=\"text-align:left\">keeling_community</td><td style=\"text-align:left\">keeling.earth.illinois.edu</td><td style=\"text-align:left\">22    </td><td style=\"text-align:left\">True                  </td></tr>\n",
       "<tr><td style=\"text-align:left\">expanse_community</td><td style=\"text-align:left\">login.expanse.sdsc.edu    </td><td style=\"text-align:left\">22    </td><td style=\"text-align:left\">True                  </td></tr>\n",
       "<tr><td style=\"text-align:left\">bridges_community</td><td style=\"text-align:left\">bridges2.psc.edu          </td><td style=\"text-align:left\">22    </td><td style=\"text-align:left\">True                  </td></tr>\n",
       "</tbody>\n",
       "</table>"
      ],
      "text/plain": [
       "<IPython.core.display.HTML object>"
      ]
     },
     "metadata": {},
     "output_type": "display_data"
    }
   ],
   "source": [
    "cybergis.list_hpc()"
   ]
  },
  {
   "cell_type": "markdown",
   "id": "64a0ef62",
   "metadata": {},
   "source": [
    "### List sample data folder"
   ]
  },
  {
   "cell_type": "code",
   "execution_count": 6,
   "id": "cf34b65e",
   "metadata": {},
   "outputs": [
    {
     "name": "stdout",
     "output_type": "stream",
     "text": [
      "data1.txt  data2.txt  folder1\r\n"
     ]
    }
   ],
   "source": [
    "!ls ./mydata"
   ]
  },
  {
   "cell_type": "code",
   "execution_count": 7,
   "id": "73413d46",
   "metadata": {},
   "outputs": [
    {
     "data": {
      "text/plain": [
       "'/home/jovyan/work/cybergis-compute-mpi-helloworld/mydata'"
      ]
     },
     "execution_count": 7,
     "metadata": {},
     "output_type": "execute_result"
    }
   ],
   "source": [
    "# convert relative path to absolute path\n",
    "upload_folder = os.path.abspath(\"./mydata\")\n",
    "upload_folder"
   ]
  },
  {
   "cell_type": "markdown",
   "id": "71357a4f",
   "metadata": {},
   "source": [
    "### Open Job Submission GUI to configure the model\n",
    "\n",
    "- Model is pre-selected to \"mpi_hello_world\" under \"Jon Template\"\n",
    "- Target HPC resource is pre-selected to \"keeling_community\" (Virtual Roger/Keeling at UIUC) under \"Computing Resource\"\n",
    "- You may change settings under \"Slurm Computing Configurations\"\n",
    "- You may provide some dummy parameters under \"Input Parameters\"\n",
    "- You may change what data folde to upload with the job submission (pre-selected to \"mydata\" folder)\n",
    "- Check the box if you want to receive emails regarding job status and provide your email address\n",
    "- Click on \"Submit Job\" button\n",
    "- The GUI should jump to \"Job Status\" tabpage and keep updating it\n",
    "- Once you job is done, go to \"Download Job Result\" tap page and click on \"download\" button\n",
    " "
   ]
  },
  {
   "cell_type": "code",
   "execution_count": 8,
   "id": "f99d6899",
   "metadata": {},
   "outputs": [
    {
     "data": {
      "application/vnd.jupyter.widget-view+json": {
       "model_id": "8213fd2b90fc41c0bf025700ef4c0a1b",
       "version_major": 2,
       "version_minor": 0
      },
      "text/plain": [
       "Tab(children=(Output(), Output(), Output()), _titles={'0': 'Job Configuration', '1': 'Your Job Status', '2': '…"
      ]
     },
     "metadata": {},
     "output_type": "display_data"
    }
   ],
   "source": [
    "demo_job = cybergis.create_job_by_ui(defaultJob=\"mpi_hello_world\", defaultDataFolder=upload_folder)"
   ]
  },
  {
   "cell_type": "markdown",
   "id": "898c2a61",
   "metadata": {},
   "source": [
    "### Check downloaded \"results\" folder"
   ]
  },
  {
   "cell_type": "code",
   "execution_count": 9,
   "id": "56a8c6d7",
   "metadata": {},
   "outputs": [
    {
     "name": "stdout",
     "output_type": "stream",
     "text": [
      "/home/jovyan/work/globus_download_1638902453TjJ4q\n",
      "data1.txt  data2.txt  folder1  job.stderr  job.stdout\n"
     ]
    }
   ],
   "source": [
    "!echo {cybergis.recentDownloadPath} && ls {cybergis.recentDownloadPath}"
   ]
  },
  {
   "cell_type": "markdown",
   "id": "9b60e78c",
   "metadata": {},
   "source": [
    "### Check logs in job.stdout"
   ]
  },
  {
   "cell_type": "code",
   "execution_count": 10,
   "id": "212e0fb5",
   "metadata": {},
   "outputs": [
    {
     "name": "stdout",
     "output_type": "stream",
     "text": [
      "setup\r\n",
      "Hello World ! main.py 3/4@keeling-c10\r\n",
      "Hello World ! main.py 1/4@keeling-c09\r\n",
      "Hello World ! main.py 2/4@keeling-c10\r\n",
      "Done! main.py 2/4@keeling-c10\r\n",
      "Done! main.py 3/4@keeling-c10\r\n",
      "Hello World ! main.py 0/4@keeling-c09\r\n",
      "{'SLURM_JOB_ID': '525298',\r\n",
      " 'data_folder': '/job/data',\r\n",
      " 'executable_folder': '/job/executable',\r\n",
      " 'hpc': 'keeling_community',\r\n",
      " 'job_id': '1638902453TjJ4q',\r\n",
      " 'result_folder': '/job/result',\r\n",
      " 'user_id': 'drew@js-156-216.jetstream-cloud.org'}\r\n",
      "Done! main.py 0/4@keeling-c09\r\n",
      "Done! main.py 1/4@keeling-c09\r\n",
      "cleanup\r\n"
     ]
    }
   ],
   "source": [
    "!cat {cybergis.recentDownloadPath}/job.stdout"
   ]
  },
  {
   "cell_type": "markdown",
   "id": "0501d9bb",
   "metadata": {},
   "source": [
    "## Done"
   ]
  }
 ],
 "metadata": {
  "kernelspec": {
   "display_name": "Python 3 (ipykernel)",
   "language": "python",
   "name": "python3"
  },
  "language_info": {
   "codemirror_mode": {
    "name": "ipython",
    "version": 3
   },
   "file_extension": ".py",
   "mimetype": "text/x-python",
   "name": "python",
   "nbconvert_exporter": "python",
   "pygments_lexer": "ipython3",
   "version": "3.7.9"
  }
 },
 "nbformat": 4,
 "nbformat_minor": 5
}
