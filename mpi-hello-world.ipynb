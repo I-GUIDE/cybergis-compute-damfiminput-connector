{
 "cells": [
  {
   "cell_type": "code",
   "execution_count": 38,
   "id": "d90e0e82",
   "metadata": {},
   "outputs": [
    {
     "name": "stdout",
     "output_type": "stream",
     "text": [
      "Using lib from: /home/jovyan/.local/lib/python3.7/site-packages/cybergis_compute_client/__init__.py\n"
     ]
    }
   ],
   "source": [
    "import sys, site\n",
    "try:\n",
    "    import cybergis_compute_client\n",
    "    print(\"Using lib from: {}\".format(cybergis_compute_client.__file__))\n",
    "except ImportError:\n",
    "    !{sys.executable} -m pip install --user --ignore-installed git+https://github.com/cybergis/job-supervisor-python-sdk.git@1a5321a8242f1435a611b3094b536e232b13a522   \n",
    "    if sys.path[0] != site.getusersitepackages():\n",
    "        sys.path.insert(0, site.getusersitepackages())"
   ]
  },
  {
   "cell_type": "code",
   "execution_count": 39,
   "id": "006e5c8f",
   "metadata": {},
   "outputs": [],
   "source": [
    "from cybergis_compute_client import CyberGISCompute"
   ]
  },
  {
   "cell_type": "code",
   "execution_count": 40,
   "id": "cea2cc22",
   "metadata": {},
   "outputs": [
    {
     "data": {
      "application/javascript": [
       "IPython.notebook.kernel.execute(`CyberGISCompute.jupyterhubHost = \"${window.location.host}\"`);"
      ],
      "text/plain": [
       "<IPython.core.display.Javascript object>"
      ]
     },
     "metadata": {},
     "output_type": "display_data"
    },
    {
     "name": "stdout",
     "output_type": "stream",
     "text": [
      "💻 Found system token\n",
      "🎯 Logged in as drew@js-156-216.jetstream-cloud.org\n"
     ]
    }
   ],
   "source": [
    "# Todo: random login error\n",
    "# try to run this cell again if you see login error\n",
    "cybergis = CyberGISCompute(url=\"cgjobsup.cigi.illinois.edu\", isJupyter=True, protocol=\"HTTPS\", port=443, suffix=\"v2\")\n",
    "cybergis.login()"
   ]
  },
  {
   "cell_type": "code",
   "execution_count": 41,
   "id": "b25e7361",
   "metadata": {},
   "outputs": [
    {
     "data": {
      "text/html": [
       "<table>\n",
       "<thead>\n",
       "<tr><th style=\"text-align:left\">link                                      </th><th style=\"text-align:left\">name                                </th><th style=\"text-align:left\">container    </th><th style=\"text-align:left\">repository                                                                      </th><th style=\"text-align:left\">commit  </th></tr>\n",
       "</thead>\n",
       "<tbody>\n",
       "<tr><td style=\"text-align:left\">git://uncertainty_in_spatial_accessibility</td><td style=\"text-align:left\">Uncertainty_in_Spatial_Accessibility</td><td style=\"text-align:left\">cybergisx-0.4</td><td style=\"text-align:left\">https://github.com/JinwooParkGeographer/Uncertainty-in-Spatial-Accessibility.git</td><td style=\"text-align:left\">NONE    </td></tr>\n",
       "<tr><td style=\"text-align:left\">git://spatial_access_covid-19             </td><td style=\"text-align:left\">COVID-19 spatial accessibility      </td><td style=\"text-align:left\">cybergisx-0.4</td><td style=\"text-align:left\">https://github.com/cybergis/cybergis-compute-spatial-access-covid-19.git        </td><td style=\"text-align:left\">NONE    </td></tr>\n",
       "<tr><td style=\"text-align:left\">git://mpi_hello_world                     </td><td style=\"text-align:left\">MPI Hello World                     </td><td style=\"text-align:left\">mpich        </td><td style=\"text-align:left\">https://github.com/cybergis/cybergis-compute-mpi-helloworld.git                 </td><td style=\"text-align:left\">NONE    </td></tr>\n",
       "<tr><td style=\"text-align:left\">git://hello_world                         </td><td style=\"text-align:left\">hello world                         </td><td style=\"text-align:left\">python       </td><td style=\"text-align:left\">https://github.com/cybergis/cybergis-compute-hello-world.git                    </td><td style=\"text-align:left\">NONE    </td></tr>\n",
       "<tr><td style=\"text-align:left\">git://fireabm                             </td><td style=\"text-align:left\">hello FireABM                       </td><td style=\"text-align:left\">cybergisx-0.4</td><td style=\"text-align:left\">https://github.com/cybergis/cybergis-compute-fireabm.git                        </td><td style=\"text-align:left\">NONE    </td></tr>\n",
       "<tr><td style=\"text-align:left\">git://data_fusion                         </td><td style=\"text-align:left\">data fusion                         </td><td style=\"text-align:left\">python       </td><td style=\"text-align:left\">https://github.com/CarnivalBug/data_fusion.git                                  </td><td style=\"text-align:left\">NONE    </td></tr>\n",
       "<tr><td style=\"text-align:left\">git://cybergis-compute-modules-test       </td><td style=\"text-align:left\">modules test                        </td><td style=\"text-align:left\">cjw-eb       </td><td style=\"text-align:left\">https://github.com/alexandermichels/cybergis-compute-modules-test.git           </td><td style=\"text-align:left\">NONE    </td></tr>\n",
       "<tr><td style=\"text-align:left\">git://bridge_hello_world                  </td><td style=\"text-align:left\">hello world                         </td><td style=\"text-align:left\">python       </td><td style=\"text-align:left\">https://github.com/cybergis/CyberGIS-Compute-Bridges-2.git                      </td><td style=\"text-align:left\">NONE    </td></tr>\n",
       "</tbody>\n",
       "</table>"
      ],
      "text/plain": [
       "<IPython.core.display.HTML object>"
      ]
     },
     "metadata": {},
     "output_type": "display_data"
    }
   ],
   "source": [
    "cybergis.list_git()"
   ]
  },
  {
   "cell_type": "code",
   "execution_count": 42,
   "id": "001b6702",
   "metadata": {},
   "outputs": [
    {
     "data": {
      "text/html": [
       "<table>\n",
       "<thead>\n",
       "<tr><th style=\"text-align:left\">hpc              </th><th style=\"text-align:left\">ip                        </th><th style=\"text-align:left\">port  </th><th style=\"text-align:left\">is_community_account  </th></tr>\n",
       "</thead>\n",
       "<tbody>\n",
       "<tr><td style=\"text-align:left\">keeling_community</td><td style=\"text-align:left\">keeling.earth.illinois.edu</td><td style=\"text-align:left\">22    </td><td style=\"text-align:left\">True                  </td></tr>\n",
       "<tr><td style=\"text-align:left\">expanse_community</td><td style=\"text-align:left\">login.expanse.sdsc.edu    </td><td style=\"text-align:left\">22    </td><td style=\"text-align:left\">True                  </td></tr>\n",
       "<tr><td style=\"text-align:left\">bridges_community</td><td style=\"text-align:left\">bridges2.psc.edu          </td><td style=\"text-align:left\">22    </td><td style=\"text-align:left\">True                  </td></tr>\n",
       "</tbody>\n",
       "</table>"
      ],
      "text/plain": [
       "<IPython.core.display.HTML object>"
      ]
     },
     "metadata": {},
     "output_type": "display_data"
    }
   ],
   "source": [
    "cybergis.list_hpc()"
   ]
  },
  {
   "cell_type": "code",
   "execution_count": 43,
   "id": "eef52695",
   "metadata": {},
   "outputs": [
    {
     "data": {
      "text/plain": [
       "{'endpoint': 'fcd5acc6-157f-11ec-90b8-41052087bc27',\n",
       " 'root_path': '/~/mnt/nfs_folder/notebook_home_data/drew'}"
      ]
     },
     "execution_count": 43,
     "metadata": {},
     "output_type": "execute_result"
    }
   ],
   "source": [
    "cybergis.get_user_jupyter_globus()"
   ]
  },
  {
   "cell_type": "code",
   "execution_count": 44,
   "id": "f99d6899",
   "metadata": {},
   "outputs": [
    {
     "data": {
      "application/vnd.jupyter.widget-view+json": {
       "model_id": "e1533e6e6e47493b8bb619af1e891efe",
       "version_major": 2,
       "version_minor": 0
      },
      "text/plain": [
       "Dropdown(description='📦 Git Repository:', options=('git://uncertainty_in_spatial_accessibility', 'git://spatia…"
      ]
     },
     "metadata": {},
     "output_type": "display_data"
    },
    {
     "data": {
      "application/vnd.jupyter.widget-view+json": {
       "model_id": "d6697fef566e44ccb6a891ef9e91e79a",
       "version_major": 2,
       "version_minor": 0
      },
      "text/plain": [
       "Dropdown(description='🖥 HPC Endpoint:', options=('keeling_community', 'expanse_community', 'bridges_community'…"
      ]
     },
     "metadata": {},
     "output_type": "display_data"
    },
    {
     "data": {
      "text/markdown": [
       "#### Slurm Options:"
      ],
      "text/plain": [
       "<IPython.core.display.Markdown object>"
      ]
     },
     "metadata": {},
     "output_type": "display_data"
    },
    {
     "data": {
      "text/markdown": [
       "Click checkboxs to enable option and overwrite default config value. All configs are optional. Please refer to [Slurm official documentation](https://slurm.schedmd.com/sbatch.html)"
      ],
      "text/plain": [
       "<IPython.core.display.Markdown object>"
      ]
     },
     "metadata": {},
     "output_type": "display_data"
    },
    {
     "data": {
      "application/vnd.jupyter.widget-view+json": {
       "model_id": "f12348f6e6c14c518efcbe3123bf5187",
       "version_major": 2,
       "version_minor": 0
      },
      "text/plain": [
       "Output()"
      ]
     },
     "metadata": {},
     "output_type": "display_data"
    },
    {
     "data": {
      "application/vnd.jupyter.widget-view+json": {
       "model_id": "5976cc78fc8649a5a301b50e82e73e78",
       "version_major": 2,
       "version_minor": 0
      },
      "text/plain": [
       "Output()"
      ]
     },
     "metadata": {},
     "output_type": "display_data"
    },
    {
     "data": {
      "text/markdown": [
       "#### Globus File Upload/Download:"
      ],
      "text/plain": [
       "<IPython.core.display.Markdown object>"
      ]
     },
     "metadata": {},
     "output_type": "display_data"
    },
    {
     "data": {
      "application/vnd.jupyter.widget-view+json": {
       "model_id": "3e7967055ba7422087a3b63f5a05d98a",
       "version_major": 2,
       "version_minor": 0
      },
      "text/plain": [
       "Output()"
      ]
     },
     "metadata": {},
     "output_type": "display_data"
    },
    {
     "data": {
      "application/vnd.jupyter.widget-view+json": {
       "model_id": "9e6f303ba8984ca3b0cbc27ff059cea8",
       "version_major": 2,
       "version_minor": 0
      },
      "text/plain": [
       "Output()"
      ]
     },
     "metadata": {},
     "output_type": "display_data"
    },
    {
     "data": {
      "application/vnd.jupyter.widget-view+json": {
       "model_id": "944a05b45c58432695005bcc709f7946",
       "version_major": 2,
       "version_minor": 0
      },
      "text/plain": [
       "Output()"
      ]
     },
     "metadata": {},
     "output_type": "display_data"
    },
    {
     "data": {
      "application/vnd.jupyter.widget-view+json": {
       "model_id": "b5a4b4c8e16842faafb900dacfcdba0d",
       "version_major": 2,
       "version_minor": 0
      },
      "text/plain": [
       "Output()"
      ]
     },
     "metadata": {},
     "output_type": "display_data"
    },
    {
     "data": {
      "application/vnd.jupyter.widget-view+json": {
       "model_id": "53fe7f2ff3d64559b45021990beaab42",
       "version_major": 2,
       "version_minor": 0
      },
      "text/plain": [
       "Output()"
      ]
     },
     "metadata": {},
     "output_type": "display_data"
    },
    {
     "data": {
      "application/vnd.jupyter.widget-view+json": {
       "model_id": "367ef46a0dac4f1bbb3cd03daf48e5ef",
       "version_major": 2,
       "version_minor": 0
      },
      "text/plain": [
       "Output()"
      ]
     },
     "metadata": {},
     "output_type": "display_data"
    },
    {
     "data": {
      "application/vnd.jupyter.widget-view+json": {
       "model_id": "fac692cfc52d457b89652786d472d961",
       "version_major": 2,
       "version_minor": 0
      },
      "text/plain": [
       "Output()"
      ]
     },
     "metadata": {},
     "output_type": "display_data"
    }
   ],
   "source": [
    "demo_job = cybergis.create_job_by_UI()"
   ]
  },
  {
   "cell_type": "code",
   "execution_count": null,
   "id": "56a8c6d7",
   "metadata": {},
   "outputs": [],
   "source": []
  }
 ],
 "metadata": {
  "kernelspec": {
   "display_name": "Python 3-2021-09",
   "language": "python",
   "name": "python3-2021-09"
  },
  "language_info": {
   "codemirror_mode": {
    "name": "ipython",
    "version": 3
   },
   "file_extension": ".py",
   "mimetype": "text/x-python",
   "name": "python",
   "nbconvert_exporter": "python",
   "pygments_lexer": "ipython3",
   "version": "3.7.9"
  }
 },
 "nbformat": 4,
 "nbformat_minor": 5
}
