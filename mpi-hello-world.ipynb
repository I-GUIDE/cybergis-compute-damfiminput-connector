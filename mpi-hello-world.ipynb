{
 "cells": [
  {
   "cell_type": "code",
   "execution_count": null,
   "id": "d90e0e82",
   "metadata": {},
   "outputs": [],
   "source": [
    "import sys, site\n",
    "try:\n",
    "    import cybergis_compute_client\n",
    "    print(\"Using lib from: {}\".format(cybergis_compute_client.__file__))\n",
    "except ImportError:\n",
    "    !{sys.executable} -m pip install --user --ignore-installed git+https://github.com/cybergis/job-supervisor-python-sdk.git@1a5321a8242f1435a611b3094b536e232b13a522   \n",
    "    if sys.path[0] != site.getusersitepackages():\n",
    "        sys.path.insert(0, site.getusersitepackages())"
   ]
  },
  {
   "cell_type": "code",
   "execution_count": null,
   "id": "006e5c8f",
   "metadata": {},
   "outputs": [],
   "source": [
    "from cybergis_compute_client import CyberGISCompute"
   ]
  },
  {
   "cell_type": "code",
   "execution_count": null,
   "id": "cea2cc22",
   "metadata": {},
   "outputs": [],
   "source": [
    "cybergis = CyberGISCompute(url=\"cgjobsup.cigi.illinois.edu\", isJupyter=True, protocol=\"HTTPS\", port=443, suffix=\"v2\")"
   ]
  },
  {
   "cell_type": "code",
   "execution_count": null,
   "id": "966bd44b",
   "metadata": {},
   "outputs": [],
   "source": [
    "cybergis.login()"
   ]
  },
  {
   "cell_type": "code",
   "execution_count": null,
   "id": "b25e7361",
   "metadata": {},
   "outputs": [],
   "source": [
    "cybergis.list_git()"
   ]
  },
  {
   "cell_type": "code",
   "execution_count": null,
   "id": "001b6702",
   "metadata": {},
   "outputs": [],
   "source": [
    "cybergis.list_hpc()"
   ]
  },
  {
   "cell_type": "code",
   "execution_count": null,
   "id": "eef52695",
   "metadata": {},
   "outputs": [],
   "source": [
    "cybergis.get_user_jupyter_globus()"
   ]
  },
  {
   "cell_type": "code",
   "execution_count": null,
   "id": "f99d6899",
   "metadata": {},
   "outputs": [],
   "source": [
    "demo_job = cybergis.create_job_by_UI()"
   ]
  },
  {
   "cell_type": "code",
   "execution_count": null,
   "id": "56a8c6d7",
   "metadata": {},
   "outputs": [],
   "source": []
  }
 ],
 "metadata": {
  "kernelspec": {
   "display_name": "Python 3-2021-09",
   "language": "python",
   "name": "python3-2021-09"
  },
  "language_info": {
   "codemirror_mode": {
    "name": "ipython",
    "version": 3
   },
   "file_extension": ".py",
   "mimetype": "text/x-python",
   "name": "python",
   "nbconvert_exporter": "python",
   "pygments_lexer": "ipython3",
   "version": "3.7.9"
  }
 },
 "nbformat": 4,
 "nbformat_minor": 5
}
